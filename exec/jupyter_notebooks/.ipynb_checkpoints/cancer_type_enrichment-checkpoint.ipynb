{
 "cells": [
  {
   "cell_type": "code",
   "execution_count": null,
   "metadata": {
    "collapsed": true
   },
   "outputs": [],
   "source": [
    "setwd('~/Documents/Project/germVar')\n",
    "library(germVar2)\n",
    "library(gridExtra)\n",
    "\n",
    "dele_muts <- rbind(subset(nsSNP_muts, uid %in% subset(nsSNP_vars, rare & (MDG|CPG)& dele)$uid), LoF_muts)\n",
    "\n",
    "# dimension\n",
    "dim(patho_muts)\n",
    "# number of unique variants\n",
    "length(unique(patho_muts$uid))\n",
    "# breakdown variants\n",
    "table(subset(patho_muts, !duplicated(uid))$EFF)\n",
    "# number of unique patients\n",
    "length(unique(patho_muts$Patient))"
   ]
  },
  {
   "cell_type": "code",
   "execution_count": null,
   "metadata": {
    "collapsed": true
   },
   "outputs": [],
   "source": [
    "options(repr.plot.height = 4, repr.plot.width = 4.)"
   ]
  }
 ],
 "metadata": {
  "kernelspec": {
   "display_name": "R",
   "language": "R",
   "name": "ir"
  },
  "language_info": {
   "codemirror_mode": "r",
   "file_extension": ".r",
   "mimetype": "text/x-r-source",
   "name": "R",
   "pygments_lexer": "r",
   "version": "3.1.2"
  }
 },
 "nbformat": 4,
 "nbformat_minor": 0
}
